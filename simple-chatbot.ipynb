{
 "cells": [
  {
   "cell_type": "code",
   "execution_count": null,
   "metadata": {},
   "outputs": [
    {
     "name": "stdout",
     "output_type": "stream",
     "text": [
      ">>> hi\n",
      "hello\n",
      ">>> Hello\n",
      "I did not understand what you said\n",
      ">>> HI\n",
      "I did not understand what you said\n",
      ">>> hi\n",
      "hey\n"
     ]
    }
   ],
   "source": [
    "import random\n",
    "\n",
    "greetings = ['hola', 'hello', 'hi', 'Hi', 'hey!','hey']\n",
    "\n",
    "question = ['How are you?','How are you doing?']\n",
    "responses = ['Okay',\"I'm fine\"]\n",
    "\n",
    "low_greetings = [x.lower() for x in greetings]\n",
    "low_question = [x.lower() for x in question]\n",
    "low_responses = [x.lower() for x in responses]\n",
    "\n",
    "while True:\n",
    "        userInput = input(\">>> \")\n",
    "        low_userInput = userInput.lower()\n",
    "        if low_userInput in low_greetings:\n",
    "                random_greeting = random.choice(low_greetings)\n",
    "                print(random_greeting)\n",
    "        elif low_userInput in low_question:\n",
    "                random_response = random.choice(low_responses)\n",
    "                print(random_response)\n",
    "        else:\n",
    "                print(\"I did not understand what you said\")\n",
    "\n"
   ]
  },
  {
   "cell_type": "code",
   "execution_count": null,
   "metadata": {},
   "outputs": [],
   "source": []
  },
  {
   "cell_type": "code",
   "execution_count": null,
   "metadata": {},
   "outputs": [],
   "source": []
  }
 ],
 "metadata": {
  "kernelspec": {
   "display_name": "Python 3",
   "language": "python",
   "name": "python3"
  },
  "language_info": {
   "codemirror_mode": {
    "name": "ipython",
    "version": 3
   },
   "file_extension": ".py",
   "mimetype": "text/x-python",
   "name": "python",
   "nbconvert_exporter": "python",
   "pygments_lexer": "ipython3",
   "version": "3.7.0"
  }
 },
 "nbformat": 4,
 "nbformat_minor": 2
}
