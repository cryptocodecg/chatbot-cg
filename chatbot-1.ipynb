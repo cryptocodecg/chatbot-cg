{
 "cells": [
  {
   "cell_type": "code",
   "execution_count": null,
   "metadata": {},
   "outputs": [],
   "source": [
    "import nltk\n",
    "\n",
    "# This instruction imports the nltk library into the current program.\n",
    "\n",
    "def builtinEngines(whichOne):\n",
    "\n",
    "# This instruction defines a new function called builtinEngines that takes a string parameter, whichOne:\n",
    "\n",
    "    if whichOne == 'eliza': nltk.chat.eliza.demo()\n",
    "\n",
    "    elif whichOne == 'iesha': nltk.chat.iesha.demo()\n",
    "\n",
    "    elif whichOne == 'rude': nltk.chat.rude.demo()\n",
    "\n",
    "    elif whichOne == 'suntsu': nltk.chat.suntsu.demo()\n",
    "\n",
    "    elif whichOne == 'zen': nltk.chat.zen.demo()\n",
    "\n",
    "    else:\n",
    "\n",
    "        print(\"unknown built-in chat engine {}\".format(whichOne))"
   ]
  },
  {
   "cell_type": "code",
   "execution_count": 2,
   "metadata": {},
   "outputs": [],
   "source": [
    "chatpairs = (\n",
    "\n",
    "(r\"(.*?)Stock price(.*)\", (\"Today stock price is 100\",\n",
    "\n",
    "\"I am unable to find out the stock price.\")), (r\"(.*?)not well(.*)\",\n",
    "\n",
    "(\"Oh, take care. May be you should visit a doctor\", \"Did you take some medicine ?\")),\n",
    "\n",
    "(r\"(.*?)raining(.*)\",\n",
    "\n",
    "(\"Its monsoon season, what more do you expect ?\", \"Yes, its good for farmers\")),\n",
    "\n",
    "(r\"How(.*?)health(.*)\",\n",
    "\n",
    "(\"I am always healthy.\",\n",
    "\n",
    "\"I am a program, super healthy!\")), (r\".*\",\n",
    "\n",
    "(\"I am good. How are you today ?\", \"What brings you here ?\"))\n",
    "\n",
    ")\n"
   ]
  },
  {
   "cell_type": "code",
   "execution_count": 3,
   "metadata": {},
   "outputs": [],
   "source": [
    "def chat(engine):\n",
    "\n",
    "    print(\"!\"*80)\n",
    "\n",
    "    print(\" >> my Engine is \" + engine + \" << \") \n",
    "    \n",
    "    builtinEngines(engine)\n",
    "    \n",
    "    \n",
    "    for engine in ['eliza', 'iesha', 'rude', 'suntsu', 'zen']:\n",
    "        \n",
    "#         print(\"=== demo of {} ===\".format(engine))\n",
    "#         print(engine)\n",
    "        \n",
    "        print(\"=== demo of {} ===\".format(engine))\n",
    "        \n",
    "        \n",
    "\n",
    "    "
   ]
  },
  {
   "cell_type": "code",
   "execution_count": null,
   "metadata": {
    "scrolled": false
   },
   "outputs": [
    {
     "name": "stdout",
     "output_type": "stream",
     "text": [
      "!!!!!!!!!!!!!!!!!!!!!!!!!!!!!!!!!!!!!!!!!!!!!!!!!!!!!!!!!!!!!!!!!!!!!!!!!!!!!!!!\n",
      " >> my Engine is zen << \n",
      "***************************************************************************\n",
      "                                Zen Chatbot!                               \n",
      "***************************************************************************\n",
      "         \"Look beyond mere words and letters - look into your mind\"        \n",
      "* Talk your way to truth with Zen Chatbot.\n",
      "* Type 'quit' when you have had enough.\n",
      "***************************************************************************\n",
      "Welcome, my child.\n",
      ">helo\n",
      "When you're enlightened, every word is wisdom.\n",
      ">ok\n",
      "I pour out a cup of water. Is the cup empty?\n",
      ">no\n",
      "It is better to be right than to be certain.\n",
      ">wow\n",
      "Form is emptiness, and emptiness is form.\n"
     ]
    }
   ],
   "source": [
    "if __name__ == \"__main__\":\n",
    "    chat('zen')"
   ]
  },
  {
   "cell_type": "code",
   "execution_count": null,
   "metadata": {},
   "outputs": [],
   "source": []
  }
 ],
 "metadata": {
  "kernelspec": {
   "display_name": "Python 3",
   "language": "python",
   "name": "python3"
  },
  "language_info": {
   "codemirror_mode": {
    "name": "ipython",
    "version": 3
   },
   "file_extension": ".py",
   "mimetype": "text/x-python",
   "name": "python",
   "nbconvert_exporter": "python",
   "pygments_lexer": "ipython3",
   "version": "3.7.0"
  }
 },
 "nbformat": 4,
 "nbformat_minor": 2
}
